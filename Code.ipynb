{
  "cells": [
    {
      "cell_type": "markdown",
      "metadata": {
        "id": "view-in-github",
        "colab_type": "text"
      },
      "source": [
        "<a href=\"https://colab.research.google.com/github/borlaugg/Improving-Bilateral-Filters/blob/main/Code.ipynb\" target=\"_parent\"><img src=\"https://colab.research.google.com/assets/colab-badge.svg\" alt=\"Open In Colab\"/></a>"
      ]
    },
    {
      "cell_type": "code",
      "execution_count": 64,
      "metadata": {
        "id": "6zOPZiNc2kbg"
      },
      "outputs": [],
      "source": [
        "import numpy as np\n",
        "from numpy.linalg import matrix_power\n",
        "import matplotlib.pyplot as plt"
      ]
    },
    {
      "cell_type": "code",
      "execution_count": 67,
      "metadata": {
        "colab": {
          "base_uri": "https://localhost:8080/"
        },
        "id": "SCEZwM8XGt0H",
        "outputId": "dbfe1a3f-59ab-4786-c33b-7289bee4c978"
      },
      "outputs": [
        {
          "output_type": "stream",
          "name": "stdout",
          "text": [
            "(300, 300)\n"
          ]
        }
      ],
      "source": [
        "import PIL\n",
        "from PIL import Image\n",
        "from PIL import ImageOps\n",
        "from numpy import asarray\n",
        "Z = asarray(ImageOps.grayscale(Image.open('img.jpg')))\n",
        "Z = Z[380:680,400:700]\n",
        "print(Z.shape)\n",
        "Z = Z.astype('float64')\n",
        "Y = Z + np.random.normal(size=Z.shape,scale  = 50, loc = 0)\n",
        "img = Image.fromarray(Y)\n",
        "img.show()"
      ]
    },
    {
      "cell_type": "code",
      "execution_count": 68,
      "metadata": {
        "id": "YNBLAjwAwtAj"
      },
      "outputs": [],
      "source": [
        "# @title\n",
        "## Constants\n",
        "sigma_s = 2.5\n",
        "sigma_r = 0.5\n",
        "N = Y.shape[0]\n",
        "N0 = 10\n",
        "iter = 100\n",
        "I = np.eye(N)\n",
        "D_h = np.roll(I,1,axis = 0)\n",
        "D_v = np.transpose(D_h)\n",
        "E_h = np.linalg.pinv(D_h)\n",
        "E_v = np.linalg.pinv(D_v)\n",
        "W = I\n",
        "# Y = np.random.normal(size=(N,N))\n",
        "lamda = 15\n",
        "zeta = 0.0001\n",
        "alpha = 0.2\n",
        "e = 0.5"
      ]
    },
    {
      "cell_type": "code",
      "execution_count": 69,
      "metadata": {
        "id": "wMYL-boEAoCP"
      },
      "outputs": [],
      "source": [
        "def W(Y,n,D):\n",
        "  A = np.eye(N)*alpha**n\n",
        "  #A = (I - matrix_power(D,n))@Y*alpha**n\n",
        "  #A = np.divide(np.ones(I.shape), np.sqrt( np.square(Y) + e**2))*alpha**n\n",
        "  return A"
      ]
    },
    {
      "cell_type": "code",
      "execution_count": 70,
      "metadata": {
        "id": "B4jtEKCym70-"
      },
      "outputs": [],
      "source": [
        "def SD_h(Y, N, zeta,E_h,D_h):\n",
        "  prev_X = Y\n",
        "  sum = np.zeros((N,N))\n",
        "  for n in range(1,3):\n",
        "      sum += (I - matrix_power(E_h, n))@W(Y,n,D_h)@(I - matrix_power(D_h,n))\n",
        "  H = I + lamda*sum\n",
        "  M = np.linalg.pinv(zeta*I + np.diag(np.diag(H)))\n",
        "  for i in range(1,iter):\n",
        "    slope = (I + lamda*sum)@prev_X - Y\n",
        "    X = prev_X - M@slope\n",
        "    prev_X = X\n",
        "  return prev_X\n",
        "\n",
        "def SD_v(Y, N, zeta,E_v,D_v):\n",
        "  prev_X = Y\n",
        "  sum = np.zeros((N,N))\n",
        "  for n in range(1,N0):\n",
        "      sum += (I - matrix_power(E_v, n))@W(Y,n,D_v)@(I - matrix_power(D_v,n))\n",
        "  H = I + lamda*sum\n",
        "  M = np.linalg.pinv(zeta*I + np.diag(np.diag(H)))\n",
        "  for i in range(1,iter):\n",
        "    slope = (I + lamda*sum)@prev_X - Y\n",
        "    X = prev_X - M@slope\n",
        "    prev_X = X\n",
        "  return prev_X\n"
      ]
    },
    {
      "cell_type": "code",
      "source": [
        "X_bi = SD_h(Y,N,zeta,E_h,D_h) ##Regular bilateral Filter\n",
        "img = Image.fromarray((X))\n",
        "img.show()"
      ],
      "metadata": {
        "id": "cbVvdUm6QYZu"
      },
      "execution_count": 71,
      "outputs": []
    },
    {
      "cell_type": "code",
      "source": [
        "X = SD_h(Y,N,zeta,E_h,D_h)\n",
        "#X = SD_v(np.transpose(X),N,zeta,E_v,D_v)\n",
        "X = SD_h(np.transpose(X),N,zeta,E_h,D_h) #this is what lead to the idea\n",
        "img = Image.fromarray(np.transpose(X))\n",
        "img.show()"
      ],
      "metadata": {
        "id": "cqc88XeI6ckH"
      },
      "execution_count": 72,
      "outputs": []
    },
    {
      "cell_type": "code",
      "source": [
        "i = Image.fromarray(Z)\n",
        "i.show()"
      ],
      "metadata": {
        "id": "4qsOIQSsukod"
      },
      "execution_count": 73,
      "outputs": []
    },
    {
      "cell_type": "code",
      "source": [
        "alpha = 0.83\n",
        "N1 = 3\n",
        "def SD(Y, N, zeta,D_v,D_h):\n",
        "  prev_X = Y\n",
        "  sum = np.zeros((N,N))\n",
        "  for n in range(1,N1):\n",
        "      for m in range(1,N1):\n",
        "        slope2 = I + lamda*np.transpose((I - 0.25*(matrix_power(D_h,n) + matrix_power(D_v,n)) - 0.25*(matrix_power(D_h,m) + matrix_power(D_v,m))))@(I - 0.25*(matrix_power(D_h,n) + matrix_power(D_v,n)) - 0.25*(matrix_power(D_h,m) + matrix_power(D_v,m)))*alpha**((m+n)**2)\n",
        "  for i in range(1,50):\n",
        "    for n in range(1,N1):\n",
        "        for m in range(1,N1):\n",
        "          slope = prev_X - Y + lamda*np.transpose((I - 0.25*(matrix_power(D_h,n) + matrix_power(D_v,n)) - 0.25*(matrix_power(D_h,m) + matrix_power(D_v,m))))@( prev_X - 0.25*(matrix_power(D_h,n) + matrix_power(D_v,n))@prev_X - 0.25*prev_X@(matrix_power(D_h,m) + matrix_power(D_v,m)))*alpha**((m+n)**2)\n",
        "    mu = np.linalg.pinv(zeta*I + np.diag(np.diag(slope2)))\n",
        "    X = prev_X - mu@slope\n",
        "    prev_X = X\n",
        "  return prev_X"
      ],
      "metadata": {
        "id": "D4FUArqEAE5x"
      },
      "execution_count": 74,
      "outputs": []
    },
    {
      "cell_type": "code",
      "source": [
        "X2 = SD(Y,N,zeta,D_v,D_h)\n",
        "X2 = SD(X2,N,zeta,D_h,D_v)\n",
        "img2 = Image.fromarray((X2))\n",
        "img2.show()"
      ],
      "metadata": {
        "id": "FuYiMROm52px"
      },
      "execution_count": 81,
      "outputs": []
    },
    {
      "cell_type": "code",
      "source": [
        "## computing MSE\n",
        "Bilat_MSE = ((X_bi - Y)**2).mean(axis=None)\n",
        "New_MSE = ((X2 - Y)**2).mean(axis=None)\n",
        "MSE = ((X - Y)**2).mean(axis=None)"
      ],
      "metadata": {
        "id": "GwVhlXwuPDkW"
      },
      "execution_count": 82,
      "outputs": []
    },
    {
      "cell_type": "code",
      "source": [
        "Bilat_MSE"
      ],
      "metadata": {
        "id": "olcP6WQDUlYg",
        "colab": {
          "base_uri": "https://localhost:8080/"
        },
        "outputId": "08b0c5a2-a1ee-4846-d5af-f090c5844e24"
      },
      "execution_count": 83,
      "outputs": [
        {
          "output_type": "execute_result",
          "data": {
            "text/plain": [
              "2144.908005816398"
            ]
          },
          "metadata": {},
          "execution_count": 83
        }
      ]
    },
    {
      "cell_type": "code",
      "source": [
        "New_MSE"
      ],
      "metadata": {
        "colab": {
          "base_uri": "https://localhost:8080/"
        },
        "id": "KMDXML7ml5-l",
        "outputId": "14b74864-eae9-41d7-97b4-faa7888fb6c2"
      },
      "execution_count": 84,
      "outputs": [
        {
          "output_type": "execute_result",
          "data": {
            "text/plain": [
              "1245.965294501479"
            ]
          },
          "metadata": {},
          "execution_count": 84
        }
      ]
    },
    {
      "cell_type": "code",
      "source": [
        "MSE"
      ],
      "metadata": {
        "colab": {
          "base_uri": "https://localhost:8080/"
        },
        "id": "F65LwjWFl6-H",
        "outputId": "df9dc36b-d48b-43e1-f983-f897d8a86e8c"
      },
      "execution_count": 85,
      "outputs": [
        {
          "output_type": "execute_result",
          "data": {
            "text/plain": [
              "6143.607522913572"
            ]
          },
          "metadata": {},
          "execution_count": 85
        }
      ]
    },
    {
      "cell_type": "code",
      "source": [
        "100*((New_MSE - Bilat_MSE)/Bilat_MSE)"
      ],
      "metadata": {
        "id": "ZLNApxXynlLF",
        "colab": {
          "base_uri": "https://localhost:8080/"
        },
        "outputId": "95b44c86-c754-4ed3-97aa-15580299488f"
      },
      "execution_count": 86,
      "outputs": [
        {
          "output_type": "execute_result",
          "data": {
            "text/plain": [
              "-41.910548558597135"
            ]
          },
          "metadata": {},
          "execution_count": 86
        }
      ]
    },
    {
      "cell_type": "code",
      "source": [],
      "metadata": {
        "id": "yzygRnuprnMW"
      },
      "execution_count": null,
      "outputs": []
    }
  ],
  "metadata": {
    "colab": {
      "provenance": [],
      "include_colab_link": true
    },
    "kernelspec": {
      "display_name": "Python 3",
      "name": "python3"
    },
    "language_info": {
      "name": "python"
    }
  },
  "nbformat": 4,
  "nbformat_minor": 0
}